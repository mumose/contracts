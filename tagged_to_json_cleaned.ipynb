{
 "cells": [
  {
   "cell_type": "code",
   "execution_count": 1,
   "metadata": {},
   "outputs": [],
   "source": [
    "import pandas as pd\n",
    "import json\n",
    "import ast\n",
    "import os\n",
    "from fnmatch import fnmatch"
   ]
  },
  {
   "cell_type": "code",
   "execution_count": 2,
   "metadata": {},
   "outputs": [],
   "source": [
    "base_path = r'C:\\Users\\islam\\Desktop\\2023 Research\\contracts/'\n",
    "tagged_path = 'tagged/'\n",
    "tagged_jsons_path = 'tagged_jsons/'"
   ]
  },
  {
   "cell_type": "code",
   "execution_count": 3,
   "metadata": {},
   "outputs": [],
   "source": [
    "rename_cols = {\n",
    "    'highlighted_labels':'labels',\n",
    "    'segment_number_from_idx':'seg_num'\n",
    "}\n",
    "cols_to_keep = [\n",
    "    'c',\n",
    "    'labels',\n",
    "    'seg_num'\n",
    "]"
   ]
  },
  {
   "cell_type": "code",
   "execution_count": 4,
   "metadata": {},
   "outputs": [],
   "source": [
    "pattern = \"*.csv\"\n",
    "all_files = []\n",
    "for path, subdirs, files in os.walk(f'{base_path}{tagged_path}'):\n",
    "    for name in files:\n",
    "        if fnmatch(name, pattern):\n",
    "            all_files.append(os.path.join(path, name))"
   ]
  },
  {
   "cell_type": "code",
   "execution_count": 5,
   "metadata": {
    "scrolled": true
   },
   "outputs": [
    {
     "data": {
      "text/plain": [
       "['C:\\\\Users\\\\islam\\\\Desktop\\\\2023 Research\\\\contracts/tagged/contract_999_tagged.csv',\n",
       " 'C:\\\\Users\\\\islam\\\\Desktop\\\\2023 Research\\\\contracts/tagged/test\\\\contract_104_tagged.csv',\n",
       " 'C:\\\\Users\\\\islam\\\\Desktop\\\\2023 Research\\\\contracts/tagged/test\\\\contract_116_tagged.csv',\n",
       " 'C:\\\\Users\\\\islam\\\\Desktop\\\\2023 Research\\\\contracts/tagged/test\\\\contract_128_tagged.csv',\n",
       " 'C:\\\\Users\\\\islam\\\\Desktop\\\\2023 Research\\\\contracts/tagged/test\\\\contract_129_tagged.csv',\n",
       " 'C:\\\\Users\\\\islam\\\\Desktop\\\\2023 Research\\\\contracts/tagged/test\\\\contract_137_tagged.csv',\n",
       " 'C:\\\\Users\\\\islam\\\\Desktop\\\\2023 Research\\\\contracts/tagged/test\\\\contract_30_tagged.csv',\n",
       " 'C:\\\\Users\\\\islam\\\\Desktop\\\\2023 Research\\\\contracts/tagged/test\\\\contract_31_tagged.csv',\n",
       " 'C:\\\\Users\\\\islam\\\\Desktop\\\\2023 Research\\\\contracts/tagged/test\\\\contract_35_tagged.csv',\n",
       " 'C:\\\\Users\\\\islam\\\\Desktop\\\\2023 Research\\\\contracts/tagged/test\\\\contract_37_tagged.csv',\n",
       " 'C:\\\\Users\\\\islam\\\\Desktop\\\\2023 Research\\\\contracts/tagged/test\\\\contract_46_tagged.csv',\n",
       " 'C:\\\\Users\\\\islam\\\\Desktop\\\\2023 Research\\\\contracts/tagged/test\\\\contract_58_tagged.csv',\n",
       " 'C:\\\\Users\\\\islam\\\\Desktop\\\\2023 Research\\\\contracts/tagged/test\\\\contract_59_tagged.csv',\n",
       " 'C:\\\\Users\\\\islam\\\\Desktop\\\\2023 Research\\\\contracts/tagged/test\\\\contract_61_tagged.csv',\n",
       " 'C:\\\\Users\\\\islam\\\\Desktop\\\\2023 Research\\\\contracts/tagged/test\\\\contract_67_tagged.csv',\n",
       " 'C:\\\\Users\\\\islam\\\\Desktop\\\\2023 Research\\\\contracts/tagged/test\\\\contract_69_tagged.csv',\n",
       " 'C:\\\\Users\\\\islam\\\\Desktop\\\\2023 Research\\\\contracts/tagged/test\\\\contract_72_tagged.csv',\n",
       " 'C:\\\\Users\\\\islam\\\\Desktop\\\\2023 Research\\\\contracts/tagged/test\\\\contract_81_tagged.csv',\n",
       " 'C:\\\\Users\\\\islam\\\\Desktop\\\\2023 Research\\\\contracts/tagged/test\\\\contract_84_tagged.csv',\n",
       " 'C:\\\\Users\\\\islam\\\\Desktop\\\\2023 Research\\\\contracts/tagged/test\\\\contract_85_tagged.csv',\n",
       " 'C:\\\\Users\\\\islam\\\\Desktop\\\\2023 Research\\\\contracts/tagged/test\\\\contract_92_tagged.csv',\n",
       " 'C:\\\\Users\\\\islam\\\\Desktop\\\\2023 Research\\\\contracts/tagged/train\\\\contract_0_tagged.csv',\n",
       " 'C:\\\\Users\\\\islam\\\\Desktop\\\\2023 Research\\\\contracts/tagged/train\\\\contract_10_tagged.csv',\n",
       " 'C:\\\\Users\\\\islam\\\\Desktop\\\\2023 Research\\\\contracts/tagged/train\\\\contract_112_tagged.csv',\n",
       " 'C:\\\\Users\\\\islam\\\\Desktop\\\\2023 Research\\\\contracts/tagged/train\\\\contract_11_tagged.csv',\n",
       " 'C:\\\\Users\\\\islam\\\\Desktop\\\\2023 Research\\\\contracts/tagged/train\\\\contract_12_tagged.csv',\n",
       " 'C:\\\\Users\\\\islam\\\\Desktop\\\\2023 Research\\\\contracts/tagged/train\\\\contract_131_tagged.csv',\n",
       " 'C:\\\\Users\\\\islam\\\\Desktop\\\\2023 Research\\\\contracts/tagged/train\\\\contract_132_tagged.csv',\n",
       " 'C:\\\\Users\\\\islam\\\\Desktop\\\\2023 Research\\\\contracts/tagged/train\\\\contract_133_tagged.csv',\n",
       " 'C:\\\\Users\\\\islam\\\\Desktop\\\\2023 Research\\\\contracts/tagged/train\\\\contract_134_tagged.csv',\n",
       " 'C:\\\\Users\\\\islam\\\\Desktop\\\\2023 Research\\\\contracts/tagged/train\\\\contract_135_tagged.csv',\n",
       " 'C:\\\\Users\\\\islam\\\\Desktop\\\\2023 Research\\\\contracts/tagged/train\\\\contract_139_tagged.csv',\n",
       " 'C:\\\\Users\\\\islam\\\\Desktop\\\\2023 Research\\\\contracts/tagged/train\\\\contract_13_tagged.csv',\n",
       " 'C:\\\\Users\\\\islam\\\\Desktop\\\\2023 Research\\\\contracts/tagged/train\\\\contract_141_tagged.csv',\n",
       " 'C:\\\\Users\\\\islam\\\\Desktop\\\\2023 Research\\\\contracts/tagged/train\\\\contract_14_tagged.csv',\n",
       " 'C:\\\\Users\\\\islam\\\\Desktop\\\\2023 Research\\\\contracts/tagged/train\\\\contract_1_tagged.csv',\n",
       " 'C:\\\\Users\\\\islam\\\\Desktop\\\\2023 Research\\\\contracts/tagged/train\\\\contract_20_tagged.csv',\n",
       " 'C:\\\\Users\\\\islam\\\\Desktop\\\\2023 Research\\\\contracts/tagged/train\\\\contract_21_tagged.csv',\n",
       " 'C:\\\\Users\\\\islam\\\\Desktop\\\\2023 Research\\\\contracts/tagged/train\\\\contract_23_tagged.csv',\n",
       " 'C:\\\\Users\\\\islam\\\\Desktop\\\\2023 Research\\\\contracts/tagged/train\\\\contract_24_tagged.csv',\n",
       " 'C:\\\\Users\\\\islam\\\\Desktop\\\\2023 Research\\\\contracts/tagged/train\\\\contract_25_tagged.csv',\n",
       " 'C:\\\\Users\\\\islam\\\\Desktop\\\\2023 Research\\\\contracts/tagged/train\\\\contract_26_tagged.csv',\n",
       " 'C:\\\\Users\\\\islam\\\\Desktop\\\\2023 Research\\\\contracts/tagged/train\\\\contract_29_tagged.csv',\n",
       " 'C:\\\\Users\\\\islam\\\\Desktop\\\\2023 Research\\\\contracts/tagged/train\\\\contract_2_tagged.csv',\n",
       " 'C:\\\\Users\\\\islam\\\\Desktop\\\\2023 Research\\\\contracts/tagged/train\\\\contract_32_tagged.csv',\n",
       " 'C:\\\\Users\\\\islam\\\\Desktop\\\\2023 Research\\\\contracts/tagged/train\\\\contract_34_tagged.csv',\n",
       " 'C:\\\\Users\\\\islam\\\\Desktop\\\\2023 Research\\\\contracts/tagged/train\\\\contract_36_tagged.csv',\n",
       " 'C:\\\\Users\\\\islam\\\\Desktop\\\\2023 Research\\\\contracts/tagged/train\\\\contract_3_tagged.csv',\n",
       " 'C:\\\\Users\\\\islam\\\\Desktop\\\\2023 Research\\\\contracts/tagged/train\\\\contract_42_tagged.csv',\n",
       " 'C:\\\\Users\\\\islam\\\\Desktop\\\\2023 Research\\\\contracts/tagged/train\\\\contract_44_tagged.csv',\n",
       " 'C:\\\\Users\\\\islam\\\\Desktop\\\\2023 Research\\\\contracts/tagged/train\\\\contract_45_tagged.csv',\n",
       " 'C:\\\\Users\\\\islam\\\\Desktop\\\\2023 Research\\\\contracts/tagged/train\\\\contract_47_tagged.csv',\n",
       " 'C:\\\\Users\\\\islam\\\\Desktop\\\\2023 Research\\\\contracts/tagged/train\\\\contract_48_tagged.csv',\n",
       " 'C:\\\\Users\\\\islam\\\\Desktop\\\\2023 Research\\\\contracts/tagged/train\\\\contract_49_tagged.csv',\n",
       " 'C:\\\\Users\\\\islam\\\\Desktop\\\\2023 Research\\\\contracts/tagged/train\\\\contract_4_tagged.csv',\n",
       " 'C:\\\\Users\\\\islam\\\\Desktop\\\\2023 Research\\\\contracts/tagged/train\\\\contract_54_tagged.csv',\n",
       " 'C:\\\\Users\\\\islam\\\\Desktop\\\\2023 Research\\\\contracts/tagged/train\\\\contract_57_tagged.csv',\n",
       " 'C:\\\\Users\\\\islam\\\\Desktop\\\\2023 Research\\\\contracts/tagged/train\\\\contract_63_tagged.csv',\n",
       " 'C:\\\\Users\\\\islam\\\\Desktop\\\\2023 Research\\\\contracts/tagged/train\\\\contract_64_tagged.csv',\n",
       " 'C:\\\\Users\\\\islam\\\\Desktop\\\\2023 Research\\\\contracts/tagged/train\\\\contract_71_tagged.csv',\n",
       " 'C:\\\\Users\\\\islam\\\\Desktop\\\\2023 Research\\\\contracts/tagged/train\\\\contract_74_tagged.csv',\n",
       " 'C:\\\\Users\\\\islam\\\\Desktop\\\\2023 Research\\\\contracts/tagged/train\\\\contract_75_tagged.csv',\n",
       " 'C:\\\\Users\\\\islam\\\\Desktop\\\\2023 Research\\\\contracts/tagged/train\\\\contract_77_tagged.csv',\n",
       " 'C:\\\\Users\\\\islam\\\\Desktop\\\\2023 Research\\\\contracts/tagged/train\\\\contract_78_tagged.csv',\n",
       " 'C:\\\\Users\\\\islam\\\\Desktop\\\\2023 Research\\\\contracts/tagged/train\\\\contract_7_tagged.csv',\n",
       " 'C:\\\\Users\\\\islam\\\\Desktop\\\\2023 Research\\\\contracts/tagged/train\\\\contract_80_tagged.csv',\n",
       " 'C:\\\\Users\\\\islam\\\\Desktop\\\\2023 Research\\\\contracts/tagged/train\\\\contract_82_tagged.csv',\n",
       " 'C:\\\\Users\\\\islam\\\\Desktop\\\\2023 Research\\\\contracts/tagged/train\\\\contract_8_tagged.csv',\n",
       " 'C:\\\\Users\\\\islam\\\\Desktop\\\\2023 Research\\\\contracts/tagged/train\\\\contract_91_tagged.csv',\n",
       " 'C:\\\\Users\\\\islam\\\\Desktop\\\\2023 Research\\\\contracts/tagged/train\\\\contract_96_tagged.csv',\n",
       " 'C:\\\\Users\\\\islam\\\\Desktop\\\\2023 Research\\\\contracts/tagged/train\\\\contract_9_tagged.csv',\n",
       " 'C:\\\\Users\\\\islam\\\\Desktop\\\\2023 Research\\\\contracts/tagged/val\\\\contract_140_tagged.csv',\n",
       " 'C:\\\\Users\\\\islam\\\\Desktop\\\\2023 Research\\\\contracts/tagged/val\\\\contract_39_tagged.csv',\n",
       " 'C:\\\\Users\\\\islam\\\\Desktop\\\\2023 Research\\\\contracts/tagged/val\\\\contract_40_tagged.csv',\n",
       " 'C:\\\\Users\\\\islam\\\\Desktop\\\\2023 Research\\\\contracts/tagged/val\\\\contract_41_tagged.csv',\n",
       " 'C:\\\\Users\\\\islam\\\\Desktop\\\\2023 Research\\\\contracts/tagged/val\\\\contract_52_tagged.csv',\n",
       " 'C:\\\\Users\\\\islam\\\\Desktop\\\\2023 Research\\\\contracts/tagged/val\\\\contract_55_tagged.csv',\n",
       " 'C:\\\\Users\\\\islam\\\\Desktop\\\\2023 Research\\\\contracts/tagged/val\\\\contract_65_tagged.csv',\n",
       " 'C:\\\\Users\\\\islam\\\\Desktop\\\\2023 Research\\\\contracts/tagged/val\\\\contract_76_tagged.csv',\n",
       " 'C:\\\\Users\\\\islam\\\\Desktop\\\\2023 Research\\\\contracts/tagged/val\\\\contract_79_tagged.csv',\n",
       " 'C:\\\\Users\\\\islam\\\\Desktop\\\\2023 Research\\\\contracts/tagged/val\\\\contract_86_tagged.csv']"
      ]
     },
     "execution_count": 5,
     "metadata": {},
     "output_type": "execute_result"
    }
   ],
   "source": [
    "all_files"
   ]
  },
  {
   "cell_type": "code",
   "execution_count": 6,
   "metadata": {},
   "outputs": [],
   "source": [
    "for path in all_files:\n",
    "    df = pd.read_csv(path)\n",
    "    contract_num = path.split('\\\\')[-1].split('_')[1]\n",
    "    highlighted = df.dropna().copy()\n",
    "    highlighted['c'] = highlighted['highlighted_coordinates'].apply(ast.literal_eval)\n",
    "    output = highlighted.rename(columns=rename_cols)\n",
    "    output = output[cols_to_keep]\n",
    "    output['seg_num'] = output['seg_num'].astype(int)\n",
    "    \n",
    "    outpath = f'{base_path}{tagged_jsons_path}contract_{contract_num}_highlighted.json'\n",
    "    output.to_json(outpath, orient='records')"
   ]
  },
  {
   "cell_type": "code",
   "execution_count": null,
   "metadata": {},
   "outputs": [],
   "source": []
  }
 ],
 "metadata": {
  "kernelspec": {
   "display_name": "boundingboxes",
   "language": "python",
   "name": "boundingboxes"
  },
  "language_info": {
   "codemirror_mode": {
    "name": "ipython",
    "version": 3
   },
   "file_extension": ".py",
   "mimetype": "text/x-python",
   "name": "python",
   "nbconvert_exporter": "python",
   "pygments_lexer": "ipython3",
   "version": "3.10.6"
  }
 },
 "nbformat": 4,
 "nbformat_minor": 4
}
